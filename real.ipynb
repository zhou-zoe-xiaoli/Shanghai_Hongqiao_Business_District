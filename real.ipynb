{
 "cells": [
  {
   "cell_type": "code",
   "execution_count": null,
   "id": "56cf5cd2",
   "metadata": {},
   "outputs": [],
   "source": [
    "import sys\n",
    "!{sys.executable} -m pip install pandas requests openpyxl\n"
   ]
  },
  {
   "cell_type": "code",
   "execution_count": 8,
   "id": "680df80a",
   "metadata": {},
   "outputs": [],
   "source": [
    "import pandas as pd\n",
    "import requests\n",
    "import time"
   ]
  },
  {
   "cell_type": "code",
   "execution_count": 9,
   "id": "92b2463a",
   "metadata": {},
   "outputs": [],
   "source": [
    "API_KEY = '97d7a79a3e538ab9f9237ca029f43cbe'\n",
    "\n",
    "ALLOWED_TOWNSHIPS = {\n",
    "    \"闵行区\": [\"新虹街道\", \"华漕镇\"],\n",
    "    \"长宁区\": [\"程家桥街道\", \"新泾镇\"],\n",
    "    \"嘉定区\": [\"江桥镇\"],\n",
    "    \"青浦区\": [\"徐泾镇\"]\n",
    "}"
   ]
  },
  {
   "cell_type": "code",
   "execution_count": null,
   "id": "b6a6b7be",
   "metadata": {},
   "outputs": [],
   "source": [
    "input_file = \"/Users/zoe/Desktop/矽亚资产管理/虹桥商务区/上海上市公司控股子公司名单-20250717-1.xlsx\"  \n",
    "df = pd.read_excel(input_file)\n",
    "\n",
    "df[\"所属街道\"] = \"\"\n",
    "df[\"是否在目标区域\"] = \"\"\n",
    "\n",
    "print(df[\"控股企业办公地址\"].head())"
   ]
  },
  {
   "cell_type": "code",
   "execution_count": 11,
   "id": "a5ead947",
   "metadata": {},
   "outputs": [],
   "source": [
    "def get_location(address):\n",
    "    url = f\"https://restapi.amap.com/v3/geocode/geo?address={address}&key={API_KEY}\"\n",
    "    try:\n",
    "        r = requests.get(url, timeout=5).json()\n",
    "        if r.get(\"status\") == \"1\" and r.get(\"geocodes\"):\n",
    "            return r[\"geocodes\"][0][\"location\"]\n",
    "    except Exception as e:\n",
    "        print(\"地址解析失败:\", e)\n",
    "    return None"
   ]
  },
  {
   "cell_type": "code",
   "execution_count": 12,
   "id": "972a989c",
   "metadata": {},
   "outputs": [],
   "source": [
    "def get_township(location):\n",
    "    url = f\"https://restapi.amap.com/v3/geocode/regeo?location={location}&key={API_KEY}\"\n",
    "    try:\n",
    "        r = requests.get(url, timeout=5).json()\n",
    "        comp = r.get(\"regeocode\", {}).get(\"addressComponent\", {})\n",
    "        return comp.get(\"district\", \"\"), comp.get(\"township\", \"\")\n",
    "    except Exception as e:\n",
    "        print(\"逆地理失败:\", e)\n",
    "    return \"\", \"\""
   ]
  },
  {
   "cell_type": "code",
   "execution_count": null,
   "id": "321c8cb6",
   "metadata": {},
   "outputs": [],
   "source": [
    "for i, row in df.iterrows():\n",
    "    addr = row[\"控股企业办公地址\"]\n",
    "    print(f\"[{i+1}] 正在处理地址: {addr}\")\n",
    "    location = get_location(addr)\n",
    "    if location:\n",
    "        district, township = get_township(location)\n",
    "        df.at[i, \"所属街道\"] = f\"{district}{township}\"\n",
    "\n",
    "        if isinstance(district, str) and isinstance(township, str):\n",
    "            if district in ALLOWED_TOWNSHIPS and township in ALLOWED_TOWNSHIPS[district]:\n",
    "                df.at[i, \"是否在目标区域\"] = \"是\"\n",
    "            else:\n",
    "                df.at[i, \"是否在目标区域\"] = \"否\"\n",
    "        else:\n",
    "            df.at[i, \"是否在目标区域\"] = \"否\"\n",
    "    else:\n",
    "        df.at[i, \"所属街道\"] = \"解析失败\"\n",
    "        df.at[i, \"是否在目标区域\"] = \"否\"\n",
    "    time.sleep(0.2)  # 频率"
   ]
  },
  {
   "cell_type": "code",
   "execution_count": 15,
   "id": "ff0642fb",
   "metadata": {},
   "outputs": [
    {
     "name": "stdout",
     "output_type": "stream",
     "text": [
      "完成\n"
     ]
    }
   ],
   "source": [
    "df.to_excel(\"输出结果.xlsx\", index=False)\n",
    "print(\"完成\")"
   ]
  },
  {
   "cell_type": "markdown",
   "id": "6afe3d2f",
   "metadata": {},
   "source": []
  }
 ],
 "metadata": {
  "kernelspec": {
   "display_name": "Python 3",
   "language": "python",
   "name": "python3"
  },
  "language_info": {
   "codemirror_mode": {
    "name": "ipython",
    "version": 3
   },
   "file_extension": ".py",
   "mimetype": "text/x-python",
   "name": "python",
   "nbconvert_exporter": "python",
   "pygments_lexer": "ipython3",
   "version": "3.11.11"
  }
 },
 "nbformat": 4,
 "nbformat_minor": 5
}
